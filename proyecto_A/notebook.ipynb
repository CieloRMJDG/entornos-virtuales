{
 "cells": [
  {
   "cell_type": "code",
   "execution_count": 1,
   "id": "36ba83ae-fa42-4953-9dd9-fa689754f5db",
   "metadata": {},
   "outputs": [
    {
     "name": "stdout",
     "output_type": "stream",
     "text": [
      "Este es el notebook\n"
     ]
    }
   ],
   "source": [
    "print(\"Este es el notebook\")"
   ]
  },
  {
   "cell_type": "code",
   "execution_count": null,
   "id": "6b1c6486-0a21-4eab-9ba8-419f2cab23ee",
   "metadata": {},
   "outputs": [],
   "source": []
  }
 ],
 "metadata": {
  "kernelspec": {
   "display_name": "Python 3 (ipykernel)",
   "language": "python",
   "name": "python3"
  },
  "language_info": {
   "codemirror_mode": {
    "name": "ipython",
    "version": 3
   },
   "file_extension": ".py",
   "mimetype": "text/x-python",
   "name": "python",
   "nbconvert_exporter": "python",
   "pygments_lexer": "ipython3",
   "version": "3.14.0"
  }
 },
 "nbformat": 4,
 "nbformat_minor": 5
}
